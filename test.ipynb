{
 "cells": [
  {
   "cell_type": "code",
   "execution_count": 2,
   "id": "c21c15f1",
   "metadata": {},
   "outputs": [],
   "source": [
    "import pandas as pd\n",
    "\n",
    "def get_SPreturns(csv_file):\n",
    "   \n",
    "    SP = pd.read_csv(csv_file)\n",
    "\n",
    "    SPprice = []\n",
    "    SPprice = SP[\"Price\"].str.replace(',','')\n",
    "    SPprice = SPprice.apply(float)\n",
    "    returns = SPprice.pct_change()\n",
    "    returns = returns.values\n",
    "    returns = list(returns)\n",
    "    returns.pop(0)\n",
    "    return returns\n",
    "\n",
    "\n",
    "returns = list(get_SPreturns(\"SPfile.csv\"))"
   ]
  },
  {
   "cell_type": "code",
   "execution_count": 9,
   "id": "0aaf4475",
   "metadata": {},
   "outputs": [],
   "source": [
    "from src_functions import var_calc"
   ]
  },
  {
   "cell_type": "code",
   "execution_count": 10,
   "id": "a460a483",
   "metadata": {},
   "outputs": [
    {
     "data": {
      "text/plain": [
       "-0.014037404942139786"
      ]
     },
     "execution_count": 10,
     "metadata": {},
     "output_type": "execute_result"
    }
   ],
   "source": [
    "var_calc(returns, 0.05)"
   ]
  },
  {
   "cell_type": "code",
   "execution_count": 12,
   "id": "f855a5e8",
   "metadata": {},
   "outputs": [
    {
     "ename": "ModuleNotFoundError",
     "evalue": "No module named 'visual'",
     "output_type": "error",
     "traceback": [
      "\u001b[0;31m---------------------------------------------------------------------------\u001b[0m",
      "\u001b[0;31mModuleNotFoundError\u001b[0m                       Traceback (most recent call last)",
      "\u001b[0;32m/tmp/ipykernel_29397/3020801695.py\u001b[0m in \u001b[0;36m<module>\u001b[0;34m\u001b[0m\n\u001b[0;32m----> 1\u001b[0;31m \u001b[0;32mfrom\u001b[0m \u001b[0mvisual\u001b[0m \u001b[0;32mimport\u001b[0m \u001b[0mplot_var\u001b[0m\u001b[0;34m\u001b[0m\u001b[0;34m\u001b[0m\u001b[0m\n\u001b[0m",
      "\u001b[0;31mModuleNotFoundError\u001b[0m: No module named 'visual'"
     ]
    }
   ],
   "source": [
    "from visual import plot_var"
   ]
  },
  {
   "cell_type": "code",
   "execution_count": null,
   "id": "208a3e99",
   "metadata": {},
   "outputs": [],
   "source": []
  }
 ],
 "metadata": {
  "kernelspec": {
   "display_name": "Python 3 (ipykernel)",
   "language": "python",
   "name": "python3"
  },
  "language_info": {
   "codemirror_mode": {
    "name": "ipython",
    "version": 3
   },
   "file_extension": ".py",
   "mimetype": "text/x-python",
   "name": "python",
   "nbconvert_exporter": "python",
   "pygments_lexer": "ipython3",
   "version": "3.10.12"
  }
 },
 "nbformat": 4,
 "nbformat_minor": 5
}
