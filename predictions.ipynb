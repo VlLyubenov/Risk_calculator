{
 "cells": [
  {
   "cell_type": "code",
   "execution_count": 1,
   "id": "e4842df9",
   "metadata": {},
   "outputs": [],
   "source": [
    "import pandas as pd\n",
    "\n",
    "def get_SPreturns(csv_file):\n",
    "   \n",
    "    SP = pd.read_csv(csv_file)\n",
    "\n",
    "    SPprice = []\n",
    "    SPprice = SP[\"Price\"].str.replace(',','')\n",
    "    SPprice = SPprice.apply(float)\n",
    "    returns = SPprice.pct_change()\n",
    "    returns = returns.values\n",
    "    returns = list(returns)\n",
    "    returns.pop(0)\n",
    "    return returns\n",
    "\n",
    "\n",
    "returns = list(get_SPreturns(\"SPfile.csv\"))"
   ]
  },
  {
   "cell_type": "code",
   "execution_count": 9,
   "id": "e605fbb4",
   "metadata": {},
   "outputs": [
    {
     "name": "stdout",
     "output_type": "stream",
     "text": [
      "                                 OLS Regression Results                                \n",
      "=======================================================================================\n",
      "Dep. Variable:                      y   R-squared (uncentered):                   0.001\n",
      "Model:                            OLS   Adj. R-squared (uncentered):             -0.005\n",
      "Method:                 Least Squares   F-statistic:                             0.1898\n",
      "Date:                Mon, 06 Nov 2023   Prob (F-statistic):                       0.664\n",
      "Time:                        23:57:56   Log-Likelihood:                          573.89\n",
      "No. Observations:                 168   AIC:                                     -1146.\n",
      "Df Residuals:                     167   BIC:                                     -1143.\n",
      "Df Model:                           1                                                  \n",
      "Covariance Type:            nonrobust                                                  \n",
      "==============================================================================\n",
      "                 coef    std err          t      P>|t|      [0.025      0.975]\n",
      "------------------------------------------------------------------------------\n",
      "x1          -2.75e-06   6.31e-06     -0.436      0.664   -1.52e-05    9.71e-06\n",
      "==============================================================================\n",
      "Omnibus:                        0.321   Durbin-Watson:                   1.958\n",
      "Prob(Omnibus):                  0.852   Jarque-Bera (JB):                0.397\n",
      "Skew:                           0.101   Prob(JB):                        0.820\n",
      "Kurtosis:                       2.874   Cond. No.                         1.00\n",
      "==============================================================================\n",
      "\n",
      "Notes:\n",
      "[1] R² is computed without centering (uncentered) since the model does not contain a constant.\n",
      "[2] Standard Errors assume that the covariance matrix of the errors is correctly specified.\n"
     ]
    }
   ],
   "source": [
    "import statsmodels.api as sm\n",
    "\n",
    "x = list(range(1,((len(returns))+1)))\n",
    "y  = list(returns)\n",
    "\n",
    "mod = sm.OLS(y, x)\n",
    "\n",
    "res = mod.fit()\n",
    "\n",
    "print(res.summary())\n",
    "                           "
   ]
  },
  {
   "cell_type": "code",
   "execution_count": 16,
   "id": "b682f612",
   "metadata": {},
   "outputs": [],
   "source": [
    "std_error = results.bse"
   ]
  },
  {
   "cell_type": "code",
   "execution_count": 18,
   "id": "7b7b1caa",
   "metadata": {},
   "outputs": [
    {
     "data": {
      "text/plain": [
       "-0.013114179329500413"
      ]
     },
     "execution_count": 18,
     "metadata": {},
     "output_type": "execute_result"
    }
   ],
   "source": [
    "from src_functions import norm_var\n",
    "norm_var(res.resid, 0.05)\n",
    "\n"
   ]
  },
  {
   "cell_type": "code",
   "execution_count": 19,
   "id": "1b2614ef",
   "metadata": {},
   "outputs": [],
   "source": [
    "def linear_regression_var(values,percent):\n",
    "    import statsmodels.api as sm\n",
    "\n",
    "    x = list(range(1,((len(returns))+1)))\n",
    "    y  = list(returns)\n",
    "\n",
    "    mod = sm.OLS(y, x)\n",
    "\n",
    "    res = mod.fit()\n",
    "    \n",
    "    from src_functions import norm_var\n",
    "    return norm_var(res.resid, 0.05)"
   ]
  },
  {
   "cell_type": "code",
   "execution_count": 21,
   "id": "f376ca1b",
   "metadata": {},
   "outputs": [],
   "source": [
    "def linear_regression_output(values,percent):\n",
    "    import statsmodels.api as sm\n",
    "\n",
    "    x = list(range(1,((len(returns))+1)))\n",
    "    y  = list(returns)\n",
    "\n",
    "    mod = sm.OLS(y, x)\n",
    "\n",
    "    res = mod.fit()\n",
    "    \n",
    "    return res.summary()"
   ]
  },
  {
   "cell_type": "code",
   "execution_count": 20,
   "id": "7f457faf",
   "metadata": {},
   "outputs": [
    {
     "data": {
      "text/plain": [
       "-0.013114179329500413"
      ]
     },
     "execution_count": 20,
     "metadata": {},
     "output_type": "execute_result"
    }
   ],
   "source": [
    "linear_regression_var(returns, 0.05)"
   ]
  },
  {
   "cell_type": "code",
   "execution_count": 27,
   "id": "c7d39726",
   "metadata": {},
   "outputs": [
    {
     "name": "stdout",
     "output_type": "stream",
     "text": [
      "Iteration:      1,   Func. Count:      5,   Neg. LLF: 324778.6117704037\n",
      "Iteration:      2,   Func. Count:     11,   Neg. LLF: -449.06789811952365\n",
      "Iteration:      3,   Func. Count:     21,   Neg. LLF: -209.0010483579502\n",
      "Iteration:      4,   Func. Count:     28,   Neg. LLF: -573.1408313538527\n",
      "Iteration:      5,   Func. Count:     35,   Neg. LLF: -574.90571606794\n",
      "Iteration:      6,   Func. Count:     40,   Neg. LLF: -574.9148225992519\n",
      "Iteration:      7,   Func. Count:     45,   Neg. LLF: -574.961834393655\n",
      "Iteration:      8,   Func. Count:     50,   Neg. LLF: -575.0997984425491\n",
      "Iteration:      9,   Func. Count:     54,   Neg. LLF: -575.2755841477721\n",
      "Iteration:     10,   Func. Count:     58,   Neg. LLF: -572.7179204435183\n",
      "Optimization terminated successfully    (Exit mode 0)\n",
      "            Current function value: -575.2755841477547\n",
      "            Iterations: 10\n",
      "            Function evaluations: 68\n",
      "            Gradient evaluations: 10\n"
     ]
    },
    {
     "name": "stderr",
     "output_type": "stream",
     "text": [
      "/home/vladi/.local/lib/python3.10/site-packages/arch/univariate/base.py:310: DataScaleWarning: y is poorly scaled, which may affect convergence of the optimizer when\n",
      "estimating the model parameters. The scale of y is 6.317e-05. Parameter\n",
      "estimation work better when this value is between 1 and 1000. The recommended\n",
      "rescaling is 100 * y.\n",
      "\n",
      "This warning can be disabled by either rescaling y before initializing the\n",
      "model or by setting rescale=False.\n",
      "\n",
      "  warnings.warn(\n"
     ]
    }
   ],
   "source": [
    "from arch import arch_model\n",
    "\n",
    "\n",
    "model = arch_model(returns, mean='Zero', vol='GARCH', p=1, q=1)\n",
    "model_fit = model.fit()\n",
    "yhat = model_fit.forecast(horizon=10)\n"
   ]
  },
  {
   "cell_type": "code",
   "execution_count": 30,
   "id": "4574fa9a",
   "metadata": {},
   "outputs": [
    {
     "name": "stdout",
     "output_type": "stream",
     "text": [
      "[7.66619940e-05 7.67943675e-05 7.69267203e-05 7.70590525e-05\n",
      " 7.71913640e-05 7.73236549e-05 7.74559252e-05 7.75881748e-05\n",
      " 7.77204038e-05 7.78526121e-05]\n"
     ]
    }
   ],
   "source": [
    "print(yhat.variance.values[-1, :])"
   ]
  },
  {
   "cell_type": "code",
   "execution_count": 43,
   "id": "62d3ae30",
   "metadata": {},
   "outputs": [],
   "source": [
    "def garch_variance(values):\n",
    "    \n",
    "    from arch import arch_model\n",
    "\n",
    "    model = arch_model(returns, mean='Zero', vol='GARCH', p=1, q=1)\n",
    "    yhat = model.forecast(horizon=1)\n",
    "    v = list(yhat.variance.values[-1, :])\n",
    "    return v"
   ]
  },
  {
   "cell_type": "code",
   "execution_count": 44,
   "id": "0d3a7370",
   "metadata": {},
   "outputs": [
    {
     "ename": "TypeError",
     "evalue": "HARX.forecast() missing 1 required positional argument: 'params'",
     "output_type": "error",
     "traceback": [
      "\u001b[0;31m---------------------------------------------------------------------------\u001b[0m",
      "\u001b[0;31mTypeError\u001b[0m                                 Traceback (most recent call last)",
      "\u001b[0;32m/tmp/ipykernel_36921/310688056.py\u001b[0m in \u001b[0;36m<module>\u001b[0;34m\u001b[0m\n\u001b[0;32m----> 1\u001b[0;31m \u001b[0mgarch_variance\u001b[0m\u001b[0;34m(\u001b[0m\u001b[0mreturns\u001b[0m\u001b[0;34m)\u001b[0m\u001b[0;34m\u001b[0m\u001b[0;34m\u001b[0m\u001b[0m\n\u001b[0m",
      "\u001b[0;32m/tmp/ipykernel_36921/4160103547.py\u001b[0m in \u001b[0;36mgarch_variance\u001b[0;34m(values)\u001b[0m\n\u001b[1;32m      4\u001b[0m \u001b[0;34m\u001b[0m\u001b[0m\n\u001b[1;32m      5\u001b[0m     \u001b[0mmodel\u001b[0m \u001b[0;34m=\u001b[0m \u001b[0march_model\u001b[0m\u001b[0;34m(\u001b[0m\u001b[0mreturns\u001b[0m\u001b[0;34m,\u001b[0m \u001b[0mmean\u001b[0m\u001b[0;34m=\u001b[0m\u001b[0;34m'Zero'\u001b[0m\u001b[0;34m,\u001b[0m \u001b[0mvol\u001b[0m\u001b[0;34m=\u001b[0m\u001b[0;34m'GARCH'\u001b[0m\u001b[0;34m,\u001b[0m \u001b[0mp\u001b[0m\u001b[0;34m=\u001b[0m\u001b[0;36m1\u001b[0m\u001b[0;34m,\u001b[0m \u001b[0mq\u001b[0m\u001b[0;34m=\u001b[0m\u001b[0;36m1\u001b[0m\u001b[0;34m)\u001b[0m\u001b[0;34m\u001b[0m\u001b[0;34m\u001b[0m\u001b[0m\n\u001b[0;32m----> 6\u001b[0;31m     \u001b[0myhat\u001b[0m \u001b[0;34m=\u001b[0m \u001b[0mmodel\u001b[0m\u001b[0;34m.\u001b[0m\u001b[0mforecast\u001b[0m\u001b[0;34m(\u001b[0m\u001b[0mhorizon\u001b[0m\u001b[0;34m=\u001b[0m\u001b[0;36m1\u001b[0m\u001b[0;34m)\u001b[0m\u001b[0;34m\u001b[0m\u001b[0;34m\u001b[0m\u001b[0m\n\u001b[0m\u001b[1;32m      7\u001b[0m     \u001b[0mv\u001b[0m \u001b[0;34m=\u001b[0m \u001b[0mlist\u001b[0m\u001b[0;34m(\u001b[0m\u001b[0myhat\u001b[0m\u001b[0;34m.\u001b[0m\u001b[0mvariance\u001b[0m\u001b[0;34m.\u001b[0m\u001b[0mvalues\u001b[0m\u001b[0;34m[\u001b[0m\u001b[0;34m-\u001b[0m\u001b[0;36m1\u001b[0m\u001b[0;34m,\u001b[0m \u001b[0;34m:\u001b[0m\u001b[0;34m]\u001b[0m\u001b[0;34m)\u001b[0m\u001b[0;34m\u001b[0m\u001b[0;34m\u001b[0m\u001b[0m\n\u001b[1;32m      8\u001b[0m     \u001b[0;32mreturn\u001b[0m \u001b[0mv\u001b[0m\u001b[0;34m\u001b[0m\u001b[0;34m\u001b[0m\u001b[0m\n",
      "\u001b[0;31mTypeError\u001b[0m: HARX.forecast() missing 1 required positional argument: 'params'"
     ]
    }
   ],
   "source": [
    "garch_variance(returns)"
   ]
  },
  {
   "cell_type": "code",
   "execution_count": 41,
   "id": "058986d0",
   "metadata": {},
   "outputs": [],
   "source": [
    "def garch_var(values, parcent):\n",
    "    from src_functions import monte_carlo_var\n",
    "    from src_functions import get_mean\n",
    "    \n",
    "    v = float(garch_variance(returns)[1])\n",
    "    sd = v **0.5 \n",
    "    monte_carlo_var(percent, get_mean(values), sd, len(values))"
   ]
  },
  {
   "cell_type": "code",
   "execution_count": 42,
   "id": "6b50fc0c",
   "metadata": {},
   "outputs": [
    {
     "name": "stdout",
     "output_type": "stream",
     "text": [
      "Iteration:      1,   Func. Count:      5,   Neg. LLF: 324778.6117704037\n",
      "Iteration:      2,   Func. Count:     11,   Neg. LLF: -449.06789811952365\n",
      "Iteration:      3,   Func. Count:     21,   Neg. LLF: -209.0010483579502\n",
      "Iteration:      4,   Func. Count:     28,   Neg. LLF: -573.1408313538527\n",
      "Iteration:      5,   Func. Count:     35,   Neg. LLF: -574.90571606794\n",
      "Iteration:      6,   Func. Count:     40,   Neg. LLF: -574.9148225992519\n",
      "Iteration:      7,   Func. Count:     45,   Neg. LLF: -574.961834393655\n",
      "Iteration:      8,   Func. Count:     50,   Neg. LLF: -575.0997984425491\n",
      "Iteration:      9,   Func. Count:     54,   Neg. LLF: -575.2755841477721\n",
      "Iteration:     10,   Func. Count:     58,   Neg. LLF: -572.7179204435183\n",
      "Optimization terminated successfully    (Exit mode 0)\n",
      "            Current function value: -575.2755841477547\n",
      "            Iterations: 10\n",
      "            Function evaluations: 68\n",
      "            Gradient evaluations: 10\n"
     ]
    },
    {
     "name": "stderr",
     "output_type": "stream",
     "text": [
      "/home/vladi/.local/lib/python3.10/site-packages/arch/univariate/base.py:310: DataScaleWarning: y is poorly scaled, which may affect convergence of the optimizer when\n",
      "estimating the model parameters. The scale of y is 6.317e-05. Parameter\n",
      "estimation work better when this value is between 1 and 1000. The recommended\n",
      "rescaling is 100 * y.\n",
      "\n",
      "This warning can be disabled by either rescaling y before initializing the\n",
      "model or by setting rescale=False.\n",
      "\n",
      "  warnings.warn(\n"
     ]
    },
    {
     "ename": "IndexError",
     "evalue": "list index out of range",
     "output_type": "error",
     "traceback": [
      "\u001b[0;31m---------------------------------------------------------------------------\u001b[0m",
      "\u001b[0;31mIndexError\u001b[0m                                Traceback (most recent call last)",
      "\u001b[0;32m/tmp/ipykernel_36921/2960530862.py\u001b[0m in \u001b[0;36m<module>\u001b[0;34m\u001b[0m\n\u001b[0;32m----> 1\u001b[0;31m \u001b[0mgarch_var\u001b[0m\u001b[0;34m(\u001b[0m\u001b[0mreturns\u001b[0m\u001b[0;34m,\u001b[0m\u001b[0;36m0.05\u001b[0m\u001b[0;34m)\u001b[0m\u001b[0;34m\u001b[0m\u001b[0;34m\u001b[0m\u001b[0m\n\u001b[0m",
      "\u001b[0;32m/tmp/ipykernel_36921/255021327.py\u001b[0m in \u001b[0;36mgarch_var\u001b[0;34m(values, parcent)\u001b[0m\n\u001b[1;32m      3\u001b[0m     \u001b[0;32mfrom\u001b[0m \u001b[0msrc_functions\u001b[0m \u001b[0;32mimport\u001b[0m \u001b[0mget_mean\u001b[0m\u001b[0;34m\u001b[0m\u001b[0;34m\u001b[0m\u001b[0m\n\u001b[1;32m      4\u001b[0m \u001b[0;34m\u001b[0m\u001b[0m\n\u001b[0;32m----> 5\u001b[0;31m     \u001b[0mv\u001b[0m \u001b[0;34m=\u001b[0m \u001b[0mfloat\u001b[0m\u001b[0;34m(\u001b[0m\u001b[0mgarch_variance\u001b[0m\u001b[0;34m(\u001b[0m\u001b[0mreturns\u001b[0m\u001b[0;34m)\u001b[0m\u001b[0;34m[\u001b[0m\u001b[0;36m1\u001b[0m\u001b[0;34m]\u001b[0m\u001b[0;34m)\u001b[0m\u001b[0;34m\u001b[0m\u001b[0;34m\u001b[0m\u001b[0m\n\u001b[0m\u001b[1;32m      6\u001b[0m     \u001b[0msd\u001b[0m \u001b[0;34m=\u001b[0m \u001b[0mv\u001b[0m \u001b[0;34m**\u001b[0m\u001b[0;36m0.5\u001b[0m\u001b[0;34m\u001b[0m\u001b[0;34m\u001b[0m\u001b[0m\n\u001b[1;32m      7\u001b[0m     \u001b[0mmonte_carlo_var\u001b[0m\u001b[0;34m(\u001b[0m\u001b[0mpercent\u001b[0m\u001b[0;34m,\u001b[0m \u001b[0mget_mean\u001b[0m\u001b[0;34m(\u001b[0m\u001b[0mvalues\u001b[0m\u001b[0;34m)\u001b[0m\u001b[0;34m,\u001b[0m \u001b[0msd\u001b[0m\u001b[0;34m,\u001b[0m \u001b[0mlen\u001b[0m\u001b[0;34m(\u001b[0m\u001b[0mvalues\u001b[0m\u001b[0;34m)\u001b[0m\u001b[0;34m)\u001b[0m\u001b[0;34m\u001b[0m\u001b[0;34m\u001b[0m\u001b[0m\n",
      "\u001b[0;31mIndexError\u001b[0m: list index out of range"
     ]
    }
   ],
   "source": [
    "garch_var(returns,0.05)"
   ]
  }
 ],
 "metadata": {
  "kernelspec": {
   "display_name": "Python 3 (ipykernel)",
   "language": "python",
   "name": "python3"
  },
  "language_info": {
   "codemirror_mode": {
    "name": "ipython",
    "version": 3
   },
   "file_extension": ".py",
   "mimetype": "text/x-python",
   "name": "python",
   "nbconvert_exporter": "python",
   "pygments_lexer": "ipython3",
   "version": "3.10.12"
  }
 },
 "nbformat": 4,
 "nbformat_minor": 5
}
